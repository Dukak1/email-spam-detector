{
 "cells": [
  {
   "cell_type": "code",
   "execution_count": 31,
   "metadata": {
    "_cell_guid": "b1076dfc-b9ad-4769-8c92-a6c4dae69d19",
    "_uuid": "8f2839f25d086af736a60e9eeb907d3b93b6e0e5",
    "execution": {
     "iopub.execute_input": "2025-07-29T09:06:07.774388Z",
     "iopub.status.busy": "2025-07-29T09:06:07.774059Z",
     "iopub.status.idle": "2025-07-29T09:06:07.791586Z",
     "shell.execute_reply": "2025-07-29T09:06:07.790600Z",
     "shell.execute_reply.started": "2025-07-29T09:06:07.774366Z"
    },
    "trusted": true
   },
   "outputs": [],
   "source": [
    "import pandas as pd\n",
    "import numpy as np\n",
    "import seaborn as sns\n",
    "import matplotlib.pyplot as plt\n",
    "import warnings\n",
    "warnings.filterwarnings(\"ignore\")\n",
    "\n",
    "df = pd.read_csv(\"/kaggle/input/sms-spam-collection-dataset/spam.csv\", encoding='ISO-8859-1')"
   ]
  },
  {
   "cell_type": "code",
   "execution_count": 32,
   "metadata": {
    "execution": {
     "iopub.execute_input": "2025-07-29T09:06:07.793146Z",
     "iopub.status.busy": "2025-07-29T09:06:07.792798Z",
     "iopub.status.idle": "2025-07-29T09:06:07.803956Z",
     "shell.execute_reply": "2025-07-29T09:06:07.803172Z",
     "shell.execute_reply.started": "2025-07-29T09:06:07.793109Z"
    },
    "trusted": true
   },
   "outputs": [
    {
     "data": {
      "text/html": [
       "<div>\n",
       "<style scoped>\n",
       "    .dataframe tbody tr th:only-of-type {\n",
       "        vertical-align: middle;\n",
       "    }\n",
       "\n",
       "    .dataframe tbody tr th {\n",
       "        vertical-align: top;\n",
       "    }\n",
       "\n",
       "    .dataframe thead th {\n",
       "        text-align: right;\n",
       "    }\n",
       "</style>\n",
       "<table border=\"1\" class=\"dataframe\">\n",
       "  <thead>\n",
       "    <tr style=\"text-align: right;\">\n",
       "      <th></th>\n",
       "      <th>v1</th>\n",
       "      <th>v2</th>\n",
       "      <th>Unnamed: 2</th>\n",
       "      <th>Unnamed: 3</th>\n",
       "      <th>Unnamed: 4</th>\n",
       "    </tr>\n",
       "  </thead>\n",
       "  <tbody>\n",
       "    <tr>\n",
       "      <th>0</th>\n",
       "      <td>ham</td>\n",
       "      <td>Go until jurong point, crazy.. Available only ...</td>\n",
       "      <td>NaN</td>\n",
       "      <td>NaN</td>\n",
       "      <td>NaN</td>\n",
       "    </tr>\n",
       "    <tr>\n",
       "      <th>1</th>\n",
       "      <td>ham</td>\n",
       "      <td>Ok lar... Joking wif u oni...</td>\n",
       "      <td>NaN</td>\n",
       "      <td>NaN</td>\n",
       "      <td>NaN</td>\n",
       "    </tr>\n",
       "    <tr>\n",
       "      <th>2</th>\n",
       "      <td>spam</td>\n",
       "      <td>Free entry in 2 a wkly comp to win FA Cup fina...</td>\n",
       "      <td>NaN</td>\n",
       "      <td>NaN</td>\n",
       "      <td>NaN</td>\n",
       "    </tr>\n",
       "    <tr>\n",
       "      <th>3</th>\n",
       "      <td>ham</td>\n",
       "      <td>U dun say so early hor... U c already then say...</td>\n",
       "      <td>NaN</td>\n",
       "      <td>NaN</td>\n",
       "      <td>NaN</td>\n",
       "    </tr>\n",
       "    <tr>\n",
       "      <th>4</th>\n",
       "      <td>ham</td>\n",
       "      <td>Nah I don't think he goes to usf, he lives aro...</td>\n",
       "      <td>NaN</td>\n",
       "      <td>NaN</td>\n",
       "      <td>NaN</td>\n",
       "    </tr>\n",
       "    <tr>\n",
       "      <th>5</th>\n",
       "      <td>spam</td>\n",
       "      <td>FreeMsg Hey there darling it's been 3 week's n...</td>\n",
       "      <td>NaN</td>\n",
       "      <td>NaN</td>\n",
       "      <td>NaN</td>\n",
       "    </tr>\n",
       "    <tr>\n",
       "      <th>6</th>\n",
       "      <td>ham</td>\n",
       "      <td>Even my brother is not like to speak with me. ...</td>\n",
       "      <td>NaN</td>\n",
       "      <td>NaN</td>\n",
       "      <td>NaN</td>\n",
       "    </tr>\n",
       "    <tr>\n",
       "      <th>7</th>\n",
       "      <td>ham</td>\n",
       "      <td>As per your request 'Melle Melle (Oru Minnamin...</td>\n",
       "      <td>NaN</td>\n",
       "      <td>NaN</td>\n",
       "      <td>NaN</td>\n",
       "    </tr>\n",
       "    <tr>\n",
       "      <th>8</th>\n",
       "      <td>spam</td>\n",
       "      <td>WINNER!! As a valued network customer you have...</td>\n",
       "      <td>NaN</td>\n",
       "      <td>NaN</td>\n",
       "      <td>NaN</td>\n",
       "    </tr>\n",
       "    <tr>\n",
       "      <th>9</th>\n",
       "      <td>spam</td>\n",
       "      <td>Had your mobile 11 months or more? U R entitle...</td>\n",
       "      <td>NaN</td>\n",
       "      <td>NaN</td>\n",
       "      <td>NaN</td>\n",
       "    </tr>\n",
       "  </tbody>\n",
       "</table>\n",
       "</div>"
      ],
      "text/plain": [
       "     v1                                                 v2 Unnamed: 2  \\\n",
       "0   ham  Go until jurong point, crazy.. Available only ...        NaN   \n",
       "1   ham                      Ok lar... Joking wif u oni...        NaN   \n",
       "2  spam  Free entry in 2 a wkly comp to win FA Cup fina...        NaN   \n",
       "3   ham  U dun say so early hor... U c already then say...        NaN   \n",
       "4   ham  Nah I don't think he goes to usf, he lives aro...        NaN   \n",
       "5  spam  FreeMsg Hey there darling it's been 3 week's n...        NaN   \n",
       "6   ham  Even my brother is not like to speak with me. ...        NaN   \n",
       "7   ham  As per your request 'Melle Melle (Oru Minnamin...        NaN   \n",
       "8  spam  WINNER!! As a valued network customer you have...        NaN   \n",
       "9  spam  Had your mobile 11 months or more? U R entitle...        NaN   \n",
       "\n",
       "  Unnamed: 3 Unnamed: 4  \n",
       "0        NaN        NaN  \n",
       "1        NaN        NaN  \n",
       "2        NaN        NaN  \n",
       "3        NaN        NaN  \n",
       "4        NaN        NaN  \n",
       "5        NaN        NaN  \n",
       "6        NaN        NaN  \n",
       "7        NaN        NaN  \n",
       "8        NaN        NaN  \n",
       "9        NaN        NaN  "
      ]
     },
     "execution_count": 32,
     "metadata": {},
     "output_type": "execute_result"
    }
   ],
   "source": [
    "df.head(10)"
   ]
  },
  {
   "cell_type": "code",
   "execution_count": 33,
   "metadata": {
    "execution": {
     "iopub.execute_input": "2025-07-29T09:06:07.805423Z",
     "iopub.status.busy": "2025-07-29T09:06:07.805091Z",
     "iopub.status.idle": "2025-07-29T09:06:07.824328Z",
     "shell.execute_reply": "2025-07-29T09:06:07.823343Z",
     "shell.execute_reply.started": "2025-07-29T09:06:07.805393Z"
    },
    "trusted": true
   },
   "outputs": [],
   "source": [
    "df.drop(df.columns[2:5], axis=1, inplace=True)\n",
    "df.columns = ['label', 'text']"
   ]
  },
  {
   "cell_type": "code",
   "execution_count": 34,
   "metadata": {
    "execution": {
     "iopub.execute_input": "2025-07-29T09:06:07.826815Z",
     "iopub.status.busy": "2025-07-29T09:06:07.826527Z",
     "iopub.status.idle": "2025-07-29T09:06:07.849868Z",
     "shell.execute_reply": "2025-07-29T09:06:07.848931Z",
     "shell.execute_reply.started": "2025-07-29T09:06:07.826791Z"
    },
    "trusted": true
   },
   "outputs": [
    {
     "data": {
      "text/html": [
       "<div>\n",
       "<style scoped>\n",
       "    .dataframe tbody tr th:only-of-type {\n",
       "        vertical-align: middle;\n",
       "    }\n",
       "\n",
       "    .dataframe tbody tr th {\n",
       "        vertical-align: top;\n",
       "    }\n",
       "\n",
       "    .dataframe thead th {\n",
       "        text-align: right;\n",
       "    }\n",
       "</style>\n",
       "<table border=\"1\" class=\"dataframe\">\n",
       "  <thead>\n",
       "    <tr style=\"text-align: right;\">\n",
       "      <th></th>\n",
       "      <th>label</th>\n",
       "      <th>text</th>\n",
       "    </tr>\n",
       "  </thead>\n",
       "  <tbody>\n",
       "    <tr>\n",
       "      <th>0</th>\n",
       "      <td>ham</td>\n",
       "      <td>Go until jurong point, crazy.. Available only ...</td>\n",
       "    </tr>\n",
       "    <tr>\n",
       "      <th>1</th>\n",
       "      <td>ham</td>\n",
       "      <td>Ok lar... Joking wif u oni...</td>\n",
       "    </tr>\n",
       "    <tr>\n",
       "      <th>2</th>\n",
       "      <td>spam</td>\n",
       "      <td>Free entry in 2 a wkly comp to win FA Cup fina...</td>\n",
       "    </tr>\n",
       "    <tr>\n",
       "      <th>3</th>\n",
       "      <td>ham</td>\n",
       "      <td>U dun say so early hor... U c already then say...</td>\n",
       "    </tr>\n",
       "    <tr>\n",
       "      <th>4</th>\n",
       "      <td>ham</td>\n",
       "      <td>Nah I don't think he goes to usf, he lives aro...</td>\n",
       "    </tr>\n",
       "    <tr>\n",
       "      <th>5</th>\n",
       "      <td>spam</td>\n",
       "      <td>FreeMsg Hey there darling it's been 3 week's n...</td>\n",
       "    </tr>\n",
       "    <tr>\n",
       "      <th>6</th>\n",
       "      <td>ham</td>\n",
       "      <td>Even my brother is not like to speak with me. ...</td>\n",
       "    </tr>\n",
       "    <tr>\n",
       "      <th>7</th>\n",
       "      <td>ham</td>\n",
       "      <td>As per your request 'Melle Melle (Oru Minnamin...</td>\n",
       "    </tr>\n",
       "    <tr>\n",
       "      <th>8</th>\n",
       "      <td>spam</td>\n",
       "      <td>WINNER!! As a valued network customer you have...</td>\n",
       "    </tr>\n",
       "    <tr>\n",
       "      <th>9</th>\n",
       "      <td>spam</td>\n",
       "      <td>Had your mobile 11 months or more? U R entitle...</td>\n",
       "    </tr>\n",
       "  </tbody>\n",
       "</table>\n",
       "</div>"
      ],
      "text/plain": [
       "  label                                               text\n",
       "0   ham  Go until jurong point, crazy.. Available only ...\n",
       "1   ham                      Ok lar... Joking wif u oni...\n",
       "2  spam  Free entry in 2 a wkly comp to win FA Cup fina...\n",
       "3   ham  U dun say so early hor... U c already then say...\n",
       "4   ham  Nah I don't think he goes to usf, he lives aro...\n",
       "5  spam  FreeMsg Hey there darling it's been 3 week's n...\n",
       "6   ham  Even my brother is not like to speak with me. ...\n",
       "7   ham  As per your request 'Melle Melle (Oru Minnamin...\n",
       "8  spam  WINNER!! As a valued network customer you have...\n",
       "9  spam  Had your mobile 11 months or more? U R entitle..."
      ]
     },
     "execution_count": 34,
     "metadata": {},
     "output_type": "execute_result"
    }
   ],
   "source": [
    "df.head(10)"
   ]
  },
  {
   "cell_type": "code",
   "execution_count": 35,
   "metadata": {
    "execution": {
     "iopub.execute_input": "2025-07-29T09:06:07.851062Z",
     "iopub.status.busy": "2025-07-29T09:06:07.850754Z",
     "iopub.status.idle": "2025-07-29T09:06:07.872569Z",
     "shell.execute_reply": "2025-07-29T09:06:07.871606Z",
     "shell.execute_reply.started": "2025-07-29T09:06:07.851039Z"
    },
    "trusted": true
   },
   "outputs": [
    {
     "name": "stdout",
     "output_type": "stream",
     "text": [
      "<class 'pandas.core.frame.DataFrame'>\n",
      "RangeIndex: 5572 entries, 0 to 5571\n",
      "Data columns (total 2 columns):\n",
      " #   Column  Non-Null Count  Dtype \n",
      "---  ------  --------------  ----- \n",
      " 0   label   5572 non-null   object\n",
      " 1   text    5572 non-null   object\n",
      "dtypes: object(2)\n",
      "memory usage: 87.2+ KB\n"
     ]
    }
   ],
   "source": [
    "df.info()"
   ]
  },
  {
   "cell_type": "code",
   "execution_count": 36,
   "metadata": {
    "execution": {
     "iopub.execute_input": "2025-07-29T09:06:07.873806Z",
     "iopub.status.busy": "2025-07-29T09:06:07.873547Z",
     "iopub.status.idle": "2025-07-29T09:06:07.904621Z",
     "shell.execute_reply": "2025-07-29T09:06:07.903740Z",
     "shell.execute_reply.started": "2025-07-29T09:06:07.873779Z"
    },
    "trusted": true
   },
   "outputs": [
    {
     "data": {
      "text/html": [
       "<div>\n",
       "<style scoped>\n",
       "    .dataframe tbody tr th:only-of-type {\n",
       "        vertical-align: middle;\n",
       "    }\n",
       "\n",
       "    .dataframe tbody tr th {\n",
       "        vertical-align: top;\n",
       "    }\n",
       "\n",
       "    .dataframe thead th {\n",
       "        text-align: right;\n",
       "    }\n",
       "</style>\n",
       "<table border=\"1\" class=\"dataframe\">\n",
       "  <thead>\n",
       "    <tr style=\"text-align: right;\">\n",
       "      <th></th>\n",
       "      <th>count</th>\n",
       "      <th>unique</th>\n",
       "      <th>top</th>\n",
       "      <th>freq</th>\n",
       "    </tr>\n",
       "  </thead>\n",
       "  <tbody>\n",
       "    <tr>\n",
       "      <th>label</th>\n",
       "      <td>5572</td>\n",
       "      <td>2</td>\n",
       "      <td>ham</td>\n",
       "      <td>4825</td>\n",
       "    </tr>\n",
       "    <tr>\n",
       "      <th>text</th>\n",
       "      <td>5572</td>\n",
       "      <td>5169</td>\n",
       "      <td>Sorry, I'll call later</td>\n",
       "      <td>30</td>\n",
       "    </tr>\n",
       "  </tbody>\n",
       "</table>\n",
       "</div>"
      ],
      "text/plain": [
       "      count unique                     top  freq\n",
       "label  5572      2                     ham  4825\n",
       "text   5572   5169  Sorry, I'll call later    30"
      ]
     },
     "execution_count": 36,
     "metadata": {},
     "output_type": "execute_result"
    }
   ],
   "source": [
    "df.describe().T"
   ]
  },
  {
   "cell_type": "code",
   "execution_count": 37,
   "metadata": {
    "execution": {
     "iopub.execute_input": "2025-07-29T09:06:07.905896Z",
     "iopub.status.busy": "2025-07-29T09:06:07.905594Z",
     "iopub.status.idle": "2025-07-29T09:06:07.923225Z",
     "shell.execute_reply": "2025-07-29T09:06:07.922258Z",
     "shell.execute_reply.started": "2025-07-29T09:06:07.905869Z"
    },
    "trusted": true
   },
   "outputs": [
    {
     "data": {
      "text/plain": [
       "label    0\n",
       "text     0\n",
       "dtype: int64"
      ]
     },
     "execution_count": 37,
     "metadata": {},
     "output_type": "execute_result"
    }
   ],
   "source": [
    "df.isna().sum()"
   ]
  },
  {
   "cell_type": "code",
   "execution_count": 38,
   "metadata": {
    "execution": {
     "iopub.execute_input": "2025-07-29T09:06:07.924241Z",
     "iopub.status.busy": "2025-07-29T09:06:07.924021Z",
     "iopub.status.idle": "2025-07-29T09:06:07.944455Z",
     "shell.execute_reply": "2025-07-29T09:06:07.943423Z",
     "shell.execute_reply.started": "2025-07-29T09:06:07.924224Z"
    },
    "trusted": true
   },
   "outputs": [
    {
     "data": {
      "text/plain": [
       "label\n",
       "ham     4825\n",
       "spam     747\n",
       "Name: count, dtype: int64"
      ]
     },
     "execution_count": 38,
     "metadata": {},
     "output_type": "execute_result"
    }
   ],
   "source": [
    "df['label'].value_counts()"
   ]
  },
  {
   "cell_type": "code",
   "execution_count": 39,
   "metadata": {
    "execution": {
     "iopub.execute_input": "2025-07-29T09:06:07.947364Z",
     "iopub.status.busy": "2025-07-29T09:06:07.947094Z",
     "iopub.status.idle": "2025-07-29T09:06:07.992164Z",
     "shell.execute_reply": "2025-07-29T09:06:07.991419Z",
     "shell.execute_reply.started": "2025-07-29T09:06:07.947342Z"
    },
    "trusted": true
   },
   "outputs": [
    {
     "name": "stdout",
     "output_type": "stream",
     "text": [
      "Average Word Count:  15.494436468054559\n",
      "Average Word Length:  4.28687076403891\n"
     ]
    }
   ],
   "source": [
    "# Average word count\n",
    "df['word_count'] = df['text'].apply(lambda x: len(x.split()))\n",
    "\n",
    "# Average word length\n",
    "df['avg_word_length'] = df['text'].apply(lambda x: sum(len(word) for word in x.split()) / len(x.split()))\n",
    "\n",
    "print(\"Average Word Count: \", df['word_count'].mean())\n",
    "print(\"Average Word Length: \", df['avg_word_length'].mean())"
   ]
  },
  {
   "cell_type": "code",
   "execution_count": 40,
   "metadata": {
    "execution": {
     "iopub.execute_input": "2025-07-29T09:06:07.993141Z",
     "iopub.status.busy": "2025-07-29T09:06:07.992883Z",
     "iopub.status.idle": "2025-07-29T09:06:08.002651Z",
     "shell.execute_reply": "2025-07-29T09:06:08.001869Z",
     "shell.execute_reply.started": "2025-07-29T09:06:07.993122Z"
    },
    "trusted": true
   },
   "outputs": [
    {
     "name": "stdout",
     "output_type": "stream",
     "text": [
      "       word_count  avg_word_length\n",
      "label                             \n",
      "ham     14.200622         4.177574\n",
      "spam    23.851406         4.992839\n"
     ]
    }
   ],
   "source": [
    "# Spam and ham comparison\n",
    "grouped_stats = df.groupby('label')[['word_count', 'avg_word_length']].mean()\n",
    "print(grouped_stats)"
   ]
  },
  {
   "cell_type": "markdown",
   "metadata": {},
   "source": [
    "# Top 20 Most Frequent Words in Spam Messages"
   ]
  },
  {
   "cell_type": "code",
   "execution_count": 41,
   "metadata": {
    "execution": {
     "iopub.execute_input": "2025-07-29T09:06:08.003949Z",
     "iopub.status.busy": "2025-07-29T09:06:08.003627Z",
     "iopub.status.idle": "2025-07-29T09:06:08.016168Z",
     "shell.execute_reply": "2025-07-29T09:06:08.015317Z",
     "shell.execute_reply.started": "2025-07-29T09:06:08.003921Z"
    },
    "trusted": true
   },
   "outputs": [],
   "source": [
    "from sklearn.feature_extraction.text import CountVectorizer"
   ]
  },
  {
   "cell_type": "code",
   "execution_count": 42,
   "metadata": {
    "execution": {
     "iopub.execute_input": "2025-07-29T09:06:08.017278Z",
     "iopub.status.busy": "2025-07-29T09:06:08.016934Z",
     "iopub.status.idle": "2025-07-29T09:06:08.035700Z",
     "shell.execute_reply": "2025-07-29T09:06:08.034728Z",
     "shell.execute_reply.started": "2025-07-29T09:06:08.017248Z"
    },
    "trusted": true
   },
   "outputs": [],
   "source": [
    "# Filter only spam messages from the dataset\n",
    "spam_texts = df[df['label'] == 'spam']['text']"
   ]
  },
  {
   "cell_type": "code",
   "execution_count": 43,
   "metadata": {
    "execution": {
     "iopub.execute_input": "2025-07-29T09:06:08.037131Z",
     "iopub.status.busy": "2025-07-29T09:06:08.036717Z",
     "iopub.status.idle": "2025-07-29T09:06:08.076201Z",
     "shell.execute_reply": "2025-07-29T09:06:08.075317Z",
     "shell.execute_reply.started": "2025-07-29T09:06:08.037102Z"
    },
    "trusted": true
   },
   "outputs": [],
   "source": [
    "# Initialize CountVectorizer and transform spam texts into a bag-of-words matrix\n",
    "vectorizer_spam = CountVectorizer()\n",
    "X_spam = vectorizer_spam.fit_transform(spam_texts)"
   ]
  },
  {
   "cell_type": "code",
   "execution_count": 44,
   "metadata": {
    "execution": {
     "iopub.execute_input": "2025-07-29T09:06:08.077359Z",
     "iopub.status.busy": "2025-07-29T09:06:08.077086Z",
     "iopub.status.idle": "2025-07-29T09:06:08.098839Z",
     "shell.execute_reply": "2025-07-29T09:06:08.097949Z",
     "shell.execute_reply.started": "2025-07-29T09:06:08.077339Z"
    },
    "trusted": true
   },
   "outputs": [],
   "source": [
    "# Convert the sparse matrix to a dense DataFrame with words as columns\n",
    "spam_freq_df = pd.DataFrame(X_spam.toarray(), columns=vectorizer_spam.get_feature_names_out())"
   ]
  },
  {
   "cell_type": "code",
   "execution_count": 45,
   "metadata": {
    "execution": {
     "iopub.execute_input": "2025-07-29T09:06:08.100358Z",
     "iopub.status.busy": "2025-07-29T09:06:08.100104Z",
     "iopub.status.idle": "2025-07-29T09:06:08.107506Z",
     "shell.execute_reply": "2025-07-29T09:06:08.106692Z",
     "shell.execute_reply.started": "2025-07-29T09:06:08.100339Z"
    },
    "trusted": true
   },
   "outputs": [],
   "source": [
    "# Calculate total frequency of each word and select the top 20\n",
    "top_spam_words = spam_freq_df.sum().sort_values(ascending=False).head(20)"
   ]
  },
  {
   "cell_type": "code",
   "execution_count": 46,
   "metadata": {
    "execution": {
     "iopub.execute_input": "2025-07-29T09:06:08.108561Z",
     "iopub.status.busy": "2025-07-29T09:06:08.108332Z",
     "iopub.status.idle": "2025-07-29T09:06:08.428752Z",
     "shell.execute_reply": "2025-07-29T09:06:08.428015Z",
     "shell.execute_reply.started": "2025-07-29T09:06:08.108541Z"
    },
    "trusted": true
   },
   "outputs": [
    {
     "data": {
      "image/png": "[encoded data removed]",
      "text/plain": [
       "<Figure size 1000x600 with 1 Axes>"
      ]
     },
     "metadata": {},
     "output_type": "display_data"
    }
   ],
   "source": [
    "# Plot the top 20 most frequent words using seaborn\n",
    "plt.figure(figsize=(10,6))\n",
    "sns.barplot(x=top_spam_words.values, y=top_spam_words.index)\n",
    "plt.title(\"Top 20 Most Frequent Words in Spam Messages\")\n",
    "plt.xlabel(\"Frequency\")\n",
    "plt.ylabel(\"Words\")\n",
    "plt.tight_layout()\n",
    "plt.show()"
   ]
  },
  {
   "cell_type": "markdown",
   "metadata": {},
   "source": [
    "# Data Cleaning and Preparation"
   ]
  },
  {
   "cell_type": "code",
   "execution_count": 47,
   "metadata": {
    "execution": {
     "iopub.execute_input": "2025-07-29T09:06:08.430094Z",
     "iopub.status.busy": "2025-07-29T09:06:08.429747Z",
     "iopub.status.idle": "2025-07-29T09:06:08.434575Z",
     "shell.execute_reply": "2025-07-29T09:06:08.433699Z",
     "shell.execute_reply.started": "2025-07-29T09:06:08.430065Z"
    },
    "trusted": true
   },
   "outputs": [],
   "source": [
    "import re\n",
    "import nltk\n",
    "from nltk.corpus import stopwords\n",
    "from nltk.stem import WordNetLemmatizer"
   ]
  },
  {
   "cell_type": "code",
   "execution_count": 48,
   "metadata": {
    "execution": {
     "iopub.execute_input": "2025-07-29T09:06:08.435661Z",
     "iopub.status.busy": "2025-07-29T09:06:08.435380Z",
     "iopub.status.idle": "2025-07-29T09:06:08.456239Z",
     "shell.execute_reply": "2025-07-29T09:06:08.455321Z",
     "shell.execute_reply.started": "2025-07-29T09:06:08.435630Z"
    },
    "trusted": true
   },
   "outputs": [
    {
     "name": "stderr",
     "output_type": "stream",
     "text": [
      "[nltk_data] Downloading package stopwords to /usr/share/nltk_data...\n",
      "[nltk_data]   Package stopwords is already up-to-date!\n",
      "[nltk_data] Downloading package punkt to /usr/share/nltk_data...\n",
      "[nltk_data]   Package punkt is already up-to-date!\n",
      "[nltk_data] Downloading package wordnet to /usr/share/nltk_data...\n",
      "[nltk_data]   Package wordnet is already up-to-date!\n"
     ]
    },
    {
     "data": {
      "text/plain": [
       "True"
      ]
     },
     "execution_count": 48,
     "metadata": {},
     "output_type": "execute_result"
    }
   ],
   "source": [
    "nltk.download('stopwords')\n",
    "nltk.download('punkt')\n",
    "nltk.download('wordnet')"
   ]
  },
  {
   "cell_type": "code",
   "execution_count": 49,
   "metadata": {
    "execution": {
     "iopub.execute_input": "2025-07-29T09:06:08.457289Z",
     "iopub.status.busy": "2025-07-29T09:06:08.457011Z",
     "iopub.status.idle": "2025-07-29T09:06:08.472657Z",
     "shell.execute_reply": "2025-07-29T09:06:08.471725Z",
     "shell.execute_reply.started": "2025-07-29T09:06:08.457268Z"
    },
    "trusted": true
   },
   "outputs": [],
   "source": [
    "# English stopwords list\n",
    "stop_words = set(stopwords.words('english'))"
   ]
  },
  {
   "cell_type": "code",
   "execution_count": 50,
   "metadata": {
    "execution": {
     "iopub.execute_input": "2025-07-29T09:06:08.474381Z",
     "iopub.status.busy": "2025-07-29T09:06:08.473882Z",
     "iopub.status.idle": "2025-07-29T09:06:08.489828Z",
     "shell.execute_reply": "2025-07-29T09:06:08.489027Z",
     "shell.execute_reply.started": "2025-07-29T09:06:08.474352Z"
    },
    "trusted": true
   },
   "outputs": [],
   "source": [
    "# Lemmatizer\n",
    "lemmatizer = WordNetLemmatizer()"
   ]
  },
  {
   "cell_type": "code",
   "execution_count": 1,
   "metadata": {
    "execution": {
     "iopub.execute_input": "2025-07-29T09:06:08.491153Z",
     "iopub.status.busy": "2025-07-29T09:06:08.490792Z",
     "iopub.status.idle": "2025-07-29T09:06:08.508457Z",
     "shell.execute_reply": "2025-07-29T09:06:08.507419Z",
     "shell.execute_reply.started": "2025-07-29T09:06:08.491123Z"
    },
    "trusted": true
   },
   "outputs": [],
   "source": [
    "def clean_text(text):\n",
    "    # Lowercase\n",
    "    text = text.lower()\n",
    "\n",
    "    # Remove URLs\n",
    "    text = re.sub(r'http\\S+|www\\S+|https\\S+', '', text, flags=re.MULTILINE)\n",
    "    \n",
    "    # Remove emails\n",
    "    text = re.sub(r'\\S+@\\S+', '', text)\n",
    "    \n",
    "    # Remove numbers\n",
    "    text = re.sub(r'\\d+', '', text)\n",
    "    \n",
    "    # Remove punctuation and special characters\n",
    "    text = re.sub(r'[^\\w\\s]', '', text)\n",
    "    \n",
    "    # Tokenize (split into words)\n",
    "    words = nltk.word_tokenize(text)\n",
    "    \n",
    "    # Remove stopwords and lemmatize\n",
    "    cleaned = [lemmatizer.lemmatize(word) for word in words if word not in stop_words]\n",
    "    \n",
    "    return ' '.join(cleaned)"
   ]
  },
  {
   "cell_type": "code",
   "execution_count": 52,
   "metadata": {
    "execution": {
     "iopub.execute_input": "2025-07-29T09:06:08.509735Z",
     "iopub.status.busy": "2025-07-29T09:06:08.509428Z",
     "iopub.status.idle": "2025-07-29T09:06:09.310126Z",
     "shell.execute_reply": "2025-07-29T09:06:09.309257Z",
     "shell.execute_reply.started": "2025-07-29T09:06:08.509701Z"
    },
    "trusted": true
   },
   "outputs": [
    {
     "data": {
      "text/html": [
       "<div>\n",
       "<style scoped>\n",
       "    .dataframe tbody tr th:only-of-type {\n",
       "        vertical-align: middle;\n",
       "    }\n",
       "\n",
       "    .dataframe tbody tr th {\n",
       "        vertical-align: top;\n",
       "    }\n",
       "\n",
       "    .dataframe thead th {\n",
       "        text-align: right;\n",
       "    }\n",
       "</style>\n",
       "<table border=\"1\" class=\"dataframe\">\n",
       "  <thead>\n",
       "    <tr style=\"text-align: right;\">\n",
       "      <th></th>\n",
       "      <th>text</th>\n",
       "      <th>cleaned_text</th>\n",
       "    </tr>\n",
       "  </thead>\n",
       "  <tbody>\n",
       "    <tr>\n",
       "      <th>0</th>\n",
       "      <td>Go until jurong point, crazy.. Available only ...</td>\n",
       "      <td>go jurong point crazy available bugis n great ...</td>\n",
       "    </tr>\n",
       "    <tr>\n",
       "      <th>1</th>\n",
       "      <td>Ok lar... Joking wif u oni...</td>\n",
       "      <td>ok lar joking wif u oni</td>\n",
       "    </tr>\n",
       "    <tr>\n",
       "      <th>2</th>\n",
       "      <td>Free entry in 2 a wkly comp to win FA Cup fina...</td>\n",
       "      <td>free entry wkly comp win fa cup final tkts st ...</td>\n",
       "    </tr>\n",
       "    <tr>\n",
       "      <th>3</th>\n",
       "      <td>U dun say so early hor... U c already then say...</td>\n",
       "      <td>u dun say early hor u c already say</td>\n",
       "    </tr>\n",
       "    <tr>\n",
       "      <th>4</th>\n",
       "      <td>Nah I don't think he goes to usf, he lives aro...</td>\n",
       "      <td>nah dont think go usf life around though</td>\n",
       "    </tr>\n",
       "    <tr>\n",
       "      <th>5</th>\n",
       "      <td>FreeMsg Hey there darling it's been 3 week's n...</td>\n",
       "      <td>freemsg hey darling week word back id like fun...</td>\n",
       "    </tr>\n",
       "    <tr>\n",
       "      <th>6</th>\n",
       "      <td>Even my brother is not like to speak with me. ...</td>\n",
       "      <td>even brother like speak treat like aid patent</td>\n",
       "    </tr>\n",
       "    <tr>\n",
       "      <th>7</th>\n",
       "      <td>As per your request 'Melle Melle (Oru Minnamin...</td>\n",
       "      <td>per request melle melle oru minnaminunginte nu...</td>\n",
       "    </tr>\n",
       "    <tr>\n",
       "      <th>8</th>\n",
       "      <td>WINNER!! As a valued network customer you have...</td>\n",
       "      <td>winner valued network customer selected receiv...</td>\n",
       "    </tr>\n",
       "    <tr>\n",
       "      <th>9</th>\n",
       "      <td>Had your mobile 11 months or more? U R entitle...</td>\n",
       "      <td>mobile month u r entitled update latest colour...</td>\n",
       "    </tr>\n",
       "  </tbody>\n",
       "</table>\n",
       "</div>"
      ],
      "text/plain": [
       "                                                text  \\\n",
       "0  Go until jurong point, crazy.. Available only ...   \n",
       "1                      Ok lar... Joking wif u oni...   \n",
       "2  Free entry in 2 a wkly comp to win FA Cup fina...   \n",
       "3  U dun say so early hor... U c already then say...   \n",
       "4  Nah I don't think he goes to usf, he lives aro...   \n",
       "5  FreeMsg Hey there darling it's been 3 week's n...   \n",
       "6  Even my brother is not like to speak with me. ...   \n",
       "7  As per your request 'Melle Melle (Oru Minnamin...   \n",
       "8  WINNER!! As a valued network customer you have...   \n",
       "9  Had your mobile 11 months or more? U R entitle...   \n",
       "\n",
       "                                        cleaned_text  \n",
       "0  go jurong point crazy available bugis n great ...  \n",
       "1                            ok lar joking wif u oni  \n",
       "2  free entry wkly comp win fa cup final tkts st ...  \n",
       "3                u dun say early hor u c already say  \n",
       "4           nah dont think go usf life around though  \n",
       "5  freemsg hey darling week word back id like fun...  \n",
       "6      even brother like speak treat like aid patent  \n",
       "7  per request melle melle oru minnaminunginte nu...  \n",
       "8  winner valued network customer selected receiv...  \n",
       "9  mobile month u r entitled update latest colour...  "
      ]
     },
     "execution_count": 52,
     "metadata": {},
     "output_type": "execute_result"
    }
   ],
   "source": [
    "# Applying\n",
    "df['cleaned_text'] = df['text'].apply(clean_text)\n",
    "\n",
    "# Cleaned text\n",
    "df[['text', 'cleaned_text']].head(10)"
   ]
  },
  {
   "cell_type": "code",
   "execution_count": 53,
   "metadata": {
    "execution": {
     "iopub.execute_input": "2025-07-29T09:06:09.311205Z",
     "iopub.status.busy": "2025-07-29T09:06:09.310946Z",
     "iopub.status.idle": "2025-07-29T09:06:10.082733Z",
     "shell.execute_reply": "2025-07-29T09:06:10.081930Z",
     "shell.execute_reply.started": "2025-07-29T09:06:09.311184Z"
    },
    "trusted": true
   },
   "outputs": [],
   "source": [
    "# Clear all texts\n",
    "cleaned_texts = [clean_text(t) for t in df['text']]"
   ]
  },
  {
   "cell_type": "code",
   "execution_count": 54,
   "metadata": {
    "execution": {
     "iopub.execute_input": "2025-07-29T09:06:10.087248Z",
     "iopub.status.busy": "2025-07-29T09:06:10.086959Z",
     "iopub.status.idle": "2025-07-29T09:06:10.098159Z",
     "shell.execute_reply": "2025-07-29T09:06:10.096851Z",
     "shell.execute_reply.started": "2025-07-29T09:06:10.087229Z"
    },
    "trusted": true
   },
   "outputs": [
    {
     "data": {
      "text/html": [
       "<div>\n",
       "<style scoped>\n",
       "    .dataframe tbody tr th:only-of-type {\n",
       "        vertical-align: middle;\n",
       "    }\n",
       "\n",
       "    .dataframe tbody tr th {\n",
       "        vertical-align: top;\n",
       "    }\n",
       "\n",
       "    .dataframe thead th {\n",
       "        text-align: right;\n",
       "    }\n",
       "</style>\n",
       "<table border=\"1\" class=\"dataframe\">\n",
       "  <thead>\n",
       "    <tr style=\"text-align: right;\">\n",
       "      <th></th>\n",
       "      <th>label</th>\n",
       "      <th>text</th>\n",
       "      <th>word_count</th>\n",
       "      <th>avg_word_length</th>\n",
       "      <th>cleaned_text</th>\n",
       "    </tr>\n",
       "  </thead>\n",
       "  <tbody>\n",
       "    <tr>\n",
       "      <th>0</th>\n",
       "      <td>ham</td>\n",
       "      <td>Go until jurong point, crazy.. Available only ...</td>\n",
       "      <td>20</td>\n",
       "      <td>4.600000</td>\n",
       "      <td>go jurong point crazy available bugis n great ...</td>\n",
       "    </tr>\n",
       "    <tr>\n",
       "      <th>1</th>\n",
       "      <td>ham</td>\n",
       "      <td>Ok lar... Joking wif u oni...</td>\n",
       "      <td>6</td>\n",
       "      <td>4.000000</td>\n",
       "      <td>ok lar joking wif u oni</td>\n",
       "    </tr>\n",
       "    <tr>\n",
       "      <th>2</th>\n",
       "      <td>spam</td>\n",
       "      <td>Free entry in 2 a wkly comp to win FA Cup fina...</td>\n",
       "      <td>28</td>\n",
       "      <td>4.571429</td>\n",
       "      <td>free entry wkly comp win fa cup final tkts st ...</td>\n",
       "    </tr>\n",
       "    <tr>\n",
       "      <th>3</th>\n",
       "      <td>ham</td>\n",
       "      <td>U dun say so early hor... U c already then say...</td>\n",
       "      <td>11</td>\n",
       "      <td>3.545455</td>\n",
       "      <td>u dun say early hor u c already say</td>\n",
       "    </tr>\n",
       "    <tr>\n",
       "      <th>4</th>\n",
       "      <td>ham</td>\n",
       "      <td>Nah I don't think he goes to usf, he lives aro...</td>\n",
       "      <td>13</td>\n",
       "      <td>3.769231</td>\n",
       "      <td>nah dont think go usf life around though</td>\n",
       "    </tr>\n",
       "    <tr>\n",
       "      <th>5</th>\n",
       "      <td>spam</td>\n",
       "      <td>FreeMsg Hey there darling it's been 3 week's n...</td>\n",
       "      <td>32</td>\n",
       "      <td>3.656250</td>\n",
       "      <td>freemsg hey darling week word back id like fun...</td>\n",
       "    </tr>\n",
       "    <tr>\n",
       "      <th>6</th>\n",
       "      <td>ham</td>\n",
       "      <td>Even my brother is not like to speak with me. ...</td>\n",
       "      <td>16</td>\n",
       "      <td>3.875000</td>\n",
       "      <td>even brother like speak treat like aid patent</td>\n",
       "    </tr>\n",
       "    <tr>\n",
       "      <th>7</th>\n",
       "      <td>ham</td>\n",
       "      <td>As per your request 'Melle Melle (Oru Minnamin...</td>\n",
       "      <td>26</td>\n",
       "      <td>5.192308</td>\n",
       "      <td>per request melle melle oru minnaminunginte nu...</td>\n",
       "    </tr>\n",
       "    <tr>\n",
       "      <th>8</th>\n",
       "      <td>spam</td>\n",
       "      <td>WINNER!! As a valued network customer you have...</td>\n",
       "      <td>26</td>\n",
       "      <td>5.115385</td>\n",
       "      <td>winner valued network customer selected receiv...</td>\n",
       "    </tr>\n",
       "    <tr>\n",
       "      <th>9</th>\n",
       "      <td>spam</td>\n",
       "      <td>Had your mobile 11 months or more? U R entitle...</td>\n",
       "      <td>29</td>\n",
       "      <td>4.344828</td>\n",
       "      <td>mobile month u r entitled update latest colour...</td>\n",
       "    </tr>\n",
       "  </tbody>\n",
       "</table>\n",
       "</div>"
      ],
      "text/plain": [
       "  label                                               text  word_count  \\\n",
       "0   ham  Go until jurong point, crazy.. Available only ...          20   \n",
       "1   ham                      Ok lar... Joking wif u oni...           6   \n",
       "2  spam  Free entry in 2 a wkly comp to win FA Cup fina...          28   \n",
       "3   ham  U dun say so early hor... U c already then say...          11   \n",
       "4   ham  Nah I don't think he goes to usf, he lives aro...          13   \n",
       "5  spam  FreeMsg Hey there darling it's been 3 week's n...          32   \n",
       "6   ham  Even my brother is not like to speak with me. ...          16   \n",
       "7   ham  As per your request 'Melle Melle (Oru Minnamin...          26   \n",
       "8  spam  WINNER!! As a valued network customer you have...          26   \n",
       "9  spam  Had your mobile 11 months or more? U R entitle...          29   \n",
       "\n",
       "   avg_word_length                                       cleaned_text  \n",
       "0         4.600000  go jurong point crazy available bugis n great ...  \n",
       "1         4.000000                            ok lar joking wif u oni  \n",
       "2         4.571429  free entry wkly comp win fa cup final tkts st ...  \n",
       "3         3.545455                u dun say early hor u c already say  \n",
       "4         3.769231           nah dont think go usf life around though  \n",
       "5         3.656250  freemsg hey darling week word back id like fun...  \n",
       "6         3.875000      even brother like speak treat like aid patent  \n",
       "7         5.192308  per request melle melle oru minnaminunginte nu...  \n",
       "8         5.115385  winner valued network customer selected receiv...  \n",
       "9         4.344828  mobile month u r entitled update latest colour...  "
      ]
     },
     "execution_count": 54,
     "metadata": {},
     "output_type": "execute_result"
    }
   ],
   "source": [
    "df.head(10)"
   ]
  },
  {
   "cell_type": "markdown",
   "metadata": {},
   "source": [
    "# Vectorizing Text with TF-IDF"
   ]
  },
  {
   "cell_type": "code",
   "execution_count": 55,
   "metadata": {
    "execution": {
     "iopub.execute_input": "2025-07-29T09:06:10.099195Z",
     "iopub.status.busy": "2025-07-29T09:06:10.098875Z",
     "iopub.status.idle": "2025-07-29T09:06:10.113820Z",
     "shell.execute_reply": "2025-07-29T09:06:10.112886Z",
     "shell.execute_reply.started": "2025-07-29T09:06:10.099165Z"
    },
    "trusted": true
   },
   "outputs": [],
   "source": [
    "from sklearn.feature_extraction.text import TfidfVectorizer"
   ]
  },
  {
   "cell_type": "code",
   "execution_count": 56,
   "metadata": {
    "execution": {
     "iopub.execute_input": "2025-07-29T09:06:10.115129Z",
     "iopub.status.busy": "2025-07-29T09:06:10.114799Z",
     "iopub.status.idle": "2025-07-29T09:06:10.200681Z",
     "shell.execute_reply": "2025-07-29T09:06:10.199776Z",
     "shell.execute_reply.started": "2025-07-29T09:06:10.115105Z"
    },
    "trusted": true
   },
   "outputs": [],
   "source": [
    "vectorizer = TfidfVectorizer(max_features=3000)\n",
    "\n",
    "X = vectorizer.fit_transform(cleaned_texts)  # Converts text to numeric matrix"
   ]
  },
  {
   "cell_type": "markdown",
   "metadata": {},
   "source": [
    "# Modelling"
   ]
  },
  {
   "cell_type": "markdown",
   "metadata": {},
   "source": [
    "## Multinomial Naive Bayes"
   ]
  },
  {
   "cell_type": "code",
   "execution_count": 57,
   "metadata": {
    "execution": {
     "iopub.execute_input": "2025-07-29T09:06:10.201848Z",
     "iopub.status.busy": "2025-07-29T09:06:10.201618Z",
     "iopub.status.idle": "2025-07-29T09:06:10.224764Z",
     "shell.execute_reply": "2025-07-29T09:06:10.223885Z",
     "shell.execute_reply.started": "2025-07-29T09:06:10.201830Z"
    },
    "trusted": true
   },
   "outputs": [
    {
     "data": {
      "text/html": [
       "<style>#sk-container-id-2 {color: black;background-color: white;}#sk-container-id-2 pre{padding: 0;}#sk-container-id-2 div.sk-toggleable {background-color: white;}#sk-container-id-2 label.sk-toggleable__label {cursor: pointer;display: block;width: 100%;margin-bottom: 0;padding: 0.3em;box-sizing: border-box;text-align: center;}#sk-container-id-2 label.sk-toggleable__label-arrow:before {content: \"▸\";float: left;margin-right: 0.25em;color: #696969;}#sk-container-id-2 label.sk-toggleable__label-arrow:hover:before {color: black;}#sk-container-id-2 div.sk-estimator:hover label.sk-toggleable__label-arrow:before {color: black;}#sk-container-id-2 div.sk-toggleable__content {max-height: 0;max-width: 0;overflow: hidden;text-align: left;background-color: #f0f8ff;}#sk-container-id-2 div.sk-toggleable__content pre {margin: 0.2em;color: black;border-radius: 0.25em;background-color: #f0f8ff;}#sk-container-id-2 input.sk-toggleable__control:checked~div.sk-toggleable__content {max-height: 200px;max-width: 100%;overflow: auto;}#sk-container-id-2 input.sk-toggleable__control:checked~label.sk-toggleable__label-arrow:before {content: \"▾\";}#sk-container-id-2 div.sk-estimator input.sk-toggleable__control:checked~label.sk-toggleable__label {background-color: #d4ebff;}#sk-container-id-2 div.sk-label input.sk-toggleable__control:checked~label.sk-toggleable__label {background-color: #d4ebff;}#sk-container-id-2 input.sk-hidden--visually {border: 0;clip: rect(1px 1px 1px 1px);clip: rect(1px, 1px, 1px, 1px);height: 1px;margin: -1px;overflow: hidden;padding: 0;position: absolute;width: 1px;}#sk-container-id-2 div.sk-estimator {font-family: monospace;background-color: #f0f8ff;border: 1px dotted black;border-radius: 0.25em;box-sizing: border-box;margin-bottom: 0.5em;}#sk-container-id-2 div.sk-estimator:hover {background-color: #d4ebff;}#sk-container-id-2 div.sk-parallel-item::after {content: \"\";width: 100%;border-bottom: 1px solid gray;flex-grow: 1;}#sk-container-id-2 div.sk-label:hover label.sk-toggleable__label {background-color: #d4ebff;}#sk-container-id-2 div.sk-serial::before {content: \"\";position: absolute;border-left: 1px solid gray;box-sizing: border-box;top: 0;bottom: 0;left: 50%;z-index: 0;}#sk-container-id-2 div.sk-serial {display: flex;flex-direction: column;align-items: center;background-color: white;padding-right: 0.2em;padding-left: 0.2em;position: relative;}#sk-container-id-2 div.sk-item {position: relative;z-index: 1;}#sk-container-id-2 div.sk-parallel {display: flex;align-items: stretch;justify-content: center;background-color: white;position: relative;}#sk-container-id-2 div.sk-item::before, #sk-container-id-2 div.sk-parallel-item::before {content: \"\";position: absolute;border-left: 1px solid gray;box-sizing: border-box;top: 0;bottom: 0;left: 50%;z-index: -1;}#sk-container-id-2 div.sk-parallel-item {display: flex;flex-direction: column;z-index: 1;position: relative;background-color: white;}#sk-container-id-2 div.sk-parallel-item:first-child::after {align-self: flex-end;width: 50%;}#sk-container-id-2 div.sk-parallel-item:last-child::after {align-self: flex-start;width: 50%;}#sk-container-id-2 div.sk-parallel-item:only-child::after {width: 0;}#sk-container-id-2 div.sk-dashed-wrapped {border: 1px dashed gray;margin: 0 0.4em 0.5em 0.4em;box-sizing: border-box;padding-bottom: 0.4em;background-color: white;}#sk-container-id-2 div.sk-label label {font-family: monospace;font-weight: bold;display: inline-block;line-height: 1.2em;}#sk-container-id-2 div.sk-label-container {text-align: center;}#sk-container-id-2 div.sk-container {/* jupyter's `normalize.less` sets `[hidden] { display: none; }` but bootstrap.min.css set `[hidden] { display: none !important; }` so we also need the `!important` here to be able to override the default hidden behavior on the sphinx rendered scikit-learn.org. See: https://github.com/scikit-learn/scikit-learn/issues/21755 */display: inline-block !important;position: relative;}#sk-container-id-2 div.sk-text-repr-fallback {display: none;}</style><div id=\"sk-container-id-2\" class=\"sk-top-container\"><div class=\"sk-text-repr-fallback\"><pre>MultinomialNB()</pre><b>In a Jupyter environment, please rerun this cell to show the HTML representation or trust the notebook. <br />On GitHub, the HTML representation is unable to render, please try loading this page with nbviewer.org.</b></div><div class=\"sk-container\" hidden><div class=\"sk-item\"><div class=\"sk-estimator sk-toggleable\"><input class=\"sk-toggleable__control sk-hidden--visually\" id=\"sk-estimator-id-2\" type=\"checkbox\" checked><label for=\"sk-estimator-id-2\" class=\"sk-toggleable__label sk-toggleable__label-arrow\">MultinomialNB</label><div class=\"sk-toggleable__content\"><pre>MultinomialNB()</pre></div></div></div></div></div>"
      ],
      "text/plain": [
       "MultinomialNB()"
      ]
     },
     "execution_count": 57,
     "metadata": {},
     "output_type": "execute_result"
    }
   ],
   "source": [
    "from sklearn.naive_bayes import MultinomialNB\n",
    "from sklearn.model_selection import train_test_split\n",
    "\n",
    "# 'y' etiketler (spam=1, ham=0)\n",
    "X_train, X_test, y_train, y_test = train_test_split(X, df['label'], test_size=0.2, random_state=42)\n",
    "\n",
    "model = MultinomialNB()\n",
    "model.fit(X_train, y_train)"
   ]
  },
  {
   "cell_type": "code",
   "execution_count": 59,
   "metadata": {
    "execution": {
     "iopub.execute_input": "2025-07-29T09:07:03.946442Z",
     "iopub.status.busy": "2025-07-29T09:07:03.946033Z",
     "iopub.status.idle": "2025-07-29T09:07:03.956593Z",
     "shell.execute_reply": "2025-07-29T09:07:03.955659Z",
     "shell.execute_reply.started": "2025-07-29T09:07:03.946412Z"
    },
    "trusted": true
   },
   "outputs": [
    {
     "name": "stdout",
     "output_type": "stream",
     "text": [
      "Accuracy: 0.9775784753363229\n"
     ]
    }
   ],
   "source": [
    "from sklearn.metrics import accuracy_score, classification_report, confusion_matrix\n",
    "\n",
    "y_pred_nb = model.predict(X_test)\n",
    "print(\"Accuracy:\", accuracy_score(y_test, y_pred_nb))"
   ]
  },
  {
   "cell_type": "code",
   "execution_count": 60,
   "metadata": {
    "execution": {
     "iopub.execute_input": "2025-07-29T09:07:04.519179Z",
     "iopub.status.busy": "2025-07-29T09:07:04.518789Z",
     "iopub.status.idle": "2025-07-29T09:07:04.557417Z",
     "shell.execute_reply": "2025-07-29T09:07:04.556556Z",
     "shell.execute_reply.started": "2025-07-29T09:07:04.519155Z"
    },
    "trusted": true
   },
   "outputs": [
    {
     "name": "stdout",
     "output_type": "stream",
     "text": [
      "              precision    recall  f1-score   support\n",
      "\n",
      "         ham       0.97      1.00      0.99       965\n",
      "        spam       1.00      0.83      0.91       150\n",
      "\n",
      "    accuracy                           0.98      1115\n",
      "   macro avg       0.99      0.92      0.95      1115\n",
      "weighted avg       0.98      0.98      0.98      1115\n",
      "\n"
     ]
    }
   ],
   "source": [
    "print(classification_report(y_test, y_pred_nb))"
   ]
  },
  {
   "cell_type": "code",
   "execution_count": 61,
   "metadata": {
    "execution": {
     "iopub.execute_input": "2025-07-29T09:07:05.365059Z",
     "iopub.status.busy": "2025-07-29T09:07:05.364678Z",
     "iopub.status.idle": "2025-07-29T09:07:05.376108Z",
     "shell.execute_reply": "2025-07-29T09:07:05.375356Z",
     "shell.execute_reply.started": "2025-07-29T09:07:05.365032Z"
    },
    "trusted": true
   },
   "outputs": [
    {
     "name": "stdout",
     "output_type": "stream",
     "text": [
      "[[965   0]\n",
      " [ 25 125]]\n"
     ]
    }
   ],
   "source": [
    "print(confusion_matrix(y_test,y_pred_nb))"
   ]
  },
  {
   "cell_type": "markdown",
   "metadata": {},
   "source": [
    "## Logistic Regression"
   ]
  },
  {
   "cell_type": "code",
   "execution_count": 62,
   "metadata": {
    "execution": {
     "iopub.execute_input": "2025-07-29T09:07:07.737800Z",
     "iopub.status.busy": "2025-07-29T09:07:07.737497Z",
     "iopub.status.idle": "2025-07-29T09:07:07.742328Z",
     "shell.execute_reply": "2025-07-29T09:07:07.741353Z",
     "shell.execute_reply.started": "2025-07-29T09:07:07.737775Z"
    },
    "trusted": true
   },
   "outputs": [],
   "source": [
    "from sklearn.linear_model import LogisticRegression"
   ]
  },
  {
   "cell_type": "code",
   "execution_count": 63,
   "metadata": {
    "execution": {
     "iopub.execute_input": "2025-07-29T09:07:08.035666Z",
     "iopub.status.busy": "2025-07-29T09:07:08.035313Z",
     "iopub.status.idle": "2025-07-29T09:07:08.115670Z",
     "shell.execute_reply": "2025-07-29T09:07:08.114890Z",
     "shell.execute_reply.started": "2025-07-29T09:07:08.035640Z"
    },
    "trusted": true
   },
   "outputs": [],
   "source": [
    "log_model = LogisticRegression()\n",
    "\n",
    "log_model.fit(X_train, y_train)\n",
    "\n",
    "y_pred_lr = log_model.predict(X_test)"
   ]
  },
  {
   "cell_type": "code",
   "execution_count": 64,
   "metadata": {
    "execution": {
     "iopub.execute_input": "2025-07-29T09:07:08.361365Z",
     "iopub.status.busy": "2025-07-29T09:07:08.361057Z",
     "iopub.status.idle": "2025-07-29T09:07:08.369632Z",
     "shell.execute_reply": "2025-07-29T09:07:08.368676Z",
     "shell.execute_reply.started": "2025-07-29T09:07:08.361343Z"
    },
    "trusted": true
   },
   "outputs": [
    {
     "name": "stdout",
     "output_type": "stream",
     "text": [
      "Accuracy: 0.9497757847533632\n"
     ]
    }
   ],
   "source": [
    "print(\"Accuracy:\", accuracy_score(y_test, y_pred_lr))"
   ]
  },
  {
   "cell_type": "code",
   "execution_count": 65,
   "metadata": {
    "execution": {
     "iopub.execute_input": "2025-07-29T09:07:08.764421Z",
     "iopub.status.busy": "2025-07-29T09:07:08.764088Z",
     "iopub.status.idle": "2025-07-29T09:07:08.811634Z",
     "shell.execute_reply": "2025-07-29T09:07:08.810656Z",
     "shell.execute_reply.started": "2025-07-29T09:07:08.764396Z"
    },
    "trusted": true
   },
   "outputs": [
    {
     "name": "stdout",
     "output_type": "stream",
     "text": [
      "Classification Report:\n",
      "               precision    recall  f1-score   support\n",
      "\n",
      "         ham       0.95      1.00      0.97       965\n",
      "        spam       0.96      0.65      0.78       150\n",
      "\n",
      "    accuracy                           0.95      1115\n",
      "   macro avg       0.95      0.82      0.87      1115\n",
      "weighted avg       0.95      0.95      0.95      1115\n",
      "\n"
     ]
    }
   ],
   "source": [
    "print(\"Classification Report:\\n\", classification_report(y_test, y_pred_lr))"
   ]
  },
  {
   "cell_type": "code",
   "execution_count": 66,
   "metadata": {
    "execution": {
     "iopub.execute_input": "2025-07-29T09:07:09.291191Z",
     "iopub.status.busy": "2025-07-29T09:07:09.290852Z",
     "iopub.status.idle": "2025-07-29T09:07:09.303698Z",
     "shell.execute_reply": "2025-07-29T09:07:09.302526Z",
     "shell.execute_reply.started": "2025-07-29T09:07:09.291168Z"
    },
    "trusted": true
   },
   "outputs": [
    {
     "name": "stdout",
     "output_type": "stream",
     "text": [
      "\n",
      "🧩 Confusion Matrix:\n",
      " [[961   4]\n",
      " [ 52  98]]\n"
     ]
    }
   ],
   "source": [
    "print(\"\\n🧩 Confusion Matrix:\\n\", confusion_matrix(y_test, y_pred_lr))"
   ]
  },
  {
   "cell_type": "markdown",
   "metadata": {},
   "source": [
    "## Random Forest"
   ]
  },
  {
   "cell_type": "code",
   "execution_count": 68,
   "metadata": {
    "execution": {
     "iopub.execute_input": "2025-07-29T09:07:25.703113Z",
     "iopub.status.busy": "2025-07-29T09:07:25.702740Z",
     "iopub.status.idle": "2025-07-29T09:07:26.011366Z",
     "shell.execute_reply": "2025-07-29T09:07:26.010398Z",
     "shell.execute_reply.started": "2025-07-29T09:07:25.703086Z"
    },
    "trusted": true
   },
   "outputs": [],
   "source": [
    "from sklearn.ensemble import RandomForestClassifier"
   ]
  },
  {
   "cell_type": "code",
   "execution_count": 69,
   "metadata": {
    "execution": {
     "iopub.execute_input": "2025-07-29T09:07:26.154651Z",
     "iopub.status.busy": "2025-07-29T09:07:26.154327Z",
     "iopub.status.idle": "2025-07-29T09:07:28.537756Z",
     "shell.execute_reply": "2025-07-29T09:07:28.536710Z",
     "shell.execute_reply.started": "2025-07-29T09:07:26.154629Z"
    },
    "trusted": true
   },
   "outputs": [],
   "source": [
    "rf_model = RandomForestClassifier(n_estimators=150, random_state=42)\n",
    "rf_model.fit(X_train, y_train)\n",
    "\n",
    "y_pred_rf = rf_model.predict(X_test)"
   ]
  },
  {
   "cell_type": "code",
   "execution_count": 70,
   "metadata": {
    "execution": {
     "iopub.execute_input": "2025-07-29T09:07:28.539761Z",
     "iopub.status.busy": "2025-07-29T09:07:28.539114Z",
     "iopub.status.idle": "2025-07-29T09:07:28.547403Z",
     "shell.execute_reply": "2025-07-29T09:07:28.546272Z",
     "shell.execute_reply.started": "2025-07-29T09:07:28.539724Z"
    },
    "trusted": true
   },
   "outputs": [
    {
     "name": "stdout",
     "output_type": "stream",
     "text": [
      "Random Forest Accuracy: 0.97847533632287\n"
     ]
    }
   ],
   "source": [
    "print(\"Random Forest Accuracy:\", accuracy_score(y_test, y_pred_rf))"
   ]
  },
  {
   "cell_type": "code",
   "execution_count": 71,
   "metadata": {
    "execution": {
     "iopub.execute_input": "2025-07-29T09:07:29.698015Z",
     "iopub.status.busy": "2025-07-29T09:07:29.697691Z",
     "iopub.status.idle": "2025-07-29T09:07:29.708564Z",
     "shell.execute_reply": "2025-07-29T09:07:29.707459Z",
     "shell.execute_reply.started": "2025-07-29T09:07:29.697993Z"
    },
    "trusted": true
   },
   "outputs": [
    {
     "name": "stdout",
     "output_type": "stream",
     "text": [
      "[[965   0]\n",
      " [ 24 126]]\n"
     ]
    }
   ],
   "source": [
    "print(confusion_matrix(y_test, y_pred_rf))"
   ]
  },
  {
   "cell_type": "code",
   "execution_count": 72,
   "metadata": {
    "execution": {
     "iopub.execute_input": "2025-07-29T09:07:30.352690Z",
     "iopub.status.busy": "2025-07-29T09:07:30.351710Z",
     "iopub.status.idle": "2025-07-29T09:07:30.397417Z",
     "shell.execute_reply": "2025-07-29T09:07:30.396499Z",
     "shell.execute_reply.started": "2025-07-29T09:07:30.352648Z"
    },
    "trusted": true
   },
   "outputs": [
    {
     "name": "stdout",
     "output_type": "stream",
     "text": [
      "              precision    recall  f1-score   support\n",
      "\n",
      "         ham       0.98      1.00      0.99       965\n",
      "        spam       1.00      0.84      0.91       150\n",
      "\n",
      "    accuracy                           0.98      1115\n",
      "   macro avg       0.99      0.92      0.95      1115\n",
      "weighted avg       0.98      0.98      0.98      1115\n",
      "\n"
     ]
    }
   ],
   "source": [
    "print(classification_report(y_test, y_pred_rf))"
   ]
  },
  {
   "cell_type": "markdown",
   "metadata": {},
   "source": [
    "## Decision Tree"
   ]
  },
  {
   "cell_type": "code",
   "execution_count": 73,
   "metadata": {
    "execution": {
     "iopub.execute_input": "2025-07-29T09:07:34.842519Z",
     "iopub.status.busy": "2025-07-29T09:07:34.842221Z",
     "iopub.status.idle": "2025-07-29T09:07:34.847133Z",
     "shell.execute_reply": "2025-07-29T09:07:34.846053Z",
     "shell.execute_reply.started": "2025-07-29T09:07:34.842497Z"
    },
    "trusted": true
   },
   "outputs": [],
   "source": [
    "from sklearn.tree import DecisionTreeClassifier"
   ]
  },
  {
   "cell_type": "code",
   "execution_count": 74,
   "metadata": {
    "execution": {
     "iopub.execute_input": "2025-07-29T09:07:41.390560Z",
     "iopub.status.busy": "2025-07-29T09:07:41.389729Z",
     "iopub.status.idle": "2025-07-29T09:07:41.575726Z",
     "shell.execute_reply": "2025-07-29T09:07:41.574760Z",
     "shell.execute_reply.started": "2025-07-29T09:07:41.390528Z"
    },
    "trusted": true
   },
   "outputs": [],
   "source": [
    "dt_model = DecisionTreeClassifier(random_state=42)\n",
    "dt_model.fit(X_train, y_train)\n",
    "\n",
    "y_pred_dt = dt_model.predict(X_test)"
   ]
  },
  {
   "cell_type": "code",
   "execution_count": 75,
   "metadata": {
    "execution": {
     "iopub.execute_input": "2025-07-29T09:07:42.619280Z",
     "iopub.status.busy": "2025-07-29T09:07:42.618990Z",
     "iopub.status.idle": "2025-07-29T09:07:42.626877Z",
     "shell.execute_reply": "2025-07-29T09:07:42.626082Z",
     "shell.execute_reply.started": "2025-07-29T09:07:42.619259Z"
    },
    "trusted": true
   },
   "outputs": [
    {
     "name": "stdout",
     "output_type": "stream",
     "text": [
      "Decision Tree Accuracy: 0.967713004484305\n"
     ]
    }
   ],
   "source": [
    "print(\"Decision Tree Accuracy:\", accuracy_score(y_test, y_pred_dt))"
   ]
  },
  {
   "cell_type": "code",
   "execution_count": 76,
   "metadata": {
    "execution": {
     "iopub.execute_input": "2025-07-29T09:07:43.713485Z",
     "iopub.status.busy": "2025-07-29T09:07:43.713196Z",
     "iopub.status.idle": "2025-07-29T09:07:43.723926Z",
     "shell.execute_reply": "2025-07-29T09:07:43.722837Z",
     "shell.execute_reply.started": "2025-07-29T09:07:43.713467Z"
    },
    "trusted": true
   },
   "outputs": [
    {
     "name": "stdout",
     "output_type": "stream",
     "text": [
      "[[948  17]\n",
      " [ 19 131]]\n"
     ]
    }
   ],
   "source": [
    "print(confusion_matrix(y_test, y_pred_dt))"
   ]
  },
  {
   "cell_type": "code",
   "execution_count": 77,
   "metadata": {
    "execution": {
     "iopub.execute_input": "2025-07-29T09:07:44.614950Z",
     "iopub.status.busy": "2025-07-29T09:07:44.614632Z",
     "iopub.status.idle": "2025-07-29T09:07:44.661144Z",
     "shell.execute_reply": "2025-07-29T09:07:44.660223Z",
     "shell.execute_reply.started": "2025-07-29T09:07:44.614925Z"
    },
    "trusted": true
   },
   "outputs": [
    {
     "name": "stdout",
     "output_type": "stream",
     "text": [
      "              precision    recall  f1-score   support\n",
      "\n",
      "         ham       0.98      0.98      0.98       965\n",
      "        spam       0.89      0.87      0.88       150\n",
      "\n",
      "    accuracy                           0.97      1115\n",
      "   macro avg       0.93      0.93      0.93      1115\n",
      "weighted avg       0.97      0.97      0.97      1115\n",
      "\n"
     ]
    }
   ],
   "source": [
    "print(classification_report(y_test, y_pred_dt))"
   ]
  },
  {
   "cell_type": "markdown",
   "metadata": {},
   "source": [
    "## XGBoost "
   ]
  },
  {
   "cell_type": "code",
   "execution_count": 78,
   "metadata": {
    "execution": {
     "iopub.execute_input": "2025-07-29T09:07:54.600552Z",
     "iopub.status.busy": "2025-07-29T09:07:54.600240Z",
     "iopub.status.idle": "2025-07-29T09:07:55.025015Z",
     "shell.execute_reply": "2025-07-29T09:07:55.024135Z",
     "shell.execute_reply.started": "2025-07-29T09:07:54.600532Z"
    },
    "trusted": true
   },
   "outputs": [],
   "source": [
    "import xgboost as xgb\n",
    "from sklearn.preprocessing import LabelEncoder"
   ]
  },
  {
   "cell_type": "code",
   "execution_count": 79,
   "metadata": {
    "execution": {
     "iopub.execute_input": "2025-07-29T09:07:56.092116Z",
     "iopub.status.busy": "2025-07-29T09:07:56.091709Z",
     "iopub.status.idle": "2025-07-29T09:07:56.098432Z",
     "shell.execute_reply": "2025-07-29T09:07:56.097426Z",
     "shell.execute_reply.started": "2025-07-29T09:07:56.092088Z"
    },
    "trusted": true
   },
   "outputs": [],
   "source": [
    "le = LabelEncoder()\n",
    "y_train_enc = le.fit_transform(y_train)\n",
    "y_test_enc = le.transform(y_test)"
   ]
  },
  {
   "cell_type": "code",
   "execution_count": 80,
   "metadata": {
    "execution": {
     "iopub.execute_input": "2025-07-29T09:08:01.480123Z",
     "iopub.status.busy": "2025-07-29T09:08:01.479757Z",
     "iopub.status.idle": "2025-07-29T09:08:02.115892Z",
     "shell.execute_reply": "2025-07-29T09:08:02.115226Z",
     "shell.execute_reply.started": "2025-07-29T09:08:01.480097Z"
    },
    "trusted": true
   },
   "outputs": [],
   "source": [
    "xgb_model = xgb.XGBClassifier(use_label_encoder=False, eval_metric='logloss', random_state=42)\n",
    "xgb_model.fit(X_train, y_train_enc)\n",
    "\n",
    "y_pred_xgb = xgb_model.predict(X_test)"
   ]
  },
  {
   "cell_type": "code",
   "execution_count": 81,
   "metadata": {
    "execution": {
     "iopub.execute_input": "2025-07-29T09:08:02.116953Z",
     "iopub.status.busy": "2025-07-29T09:08:02.116723Z",
     "iopub.status.idle": "2025-07-29T09:08:02.124088Z",
     "shell.execute_reply": "2025-07-29T09:08:02.121762Z",
     "shell.execute_reply.started": "2025-07-29T09:08:02.116933Z"
    },
    "trusted": true
   },
   "outputs": [
    {
     "name": "stdout",
     "output_type": "stream",
     "text": [
      "XGBoost Accuracy: 0.9748878923766816\n"
     ]
    }
   ],
   "source": [
    "print(\"XGBoost Accuracy:\", accuracy_score(y_test_enc, y_pred_xgb))"
   ]
  },
  {
   "cell_type": "code",
   "execution_count": 82,
   "metadata": {
    "execution": {
     "iopub.execute_input": "2025-07-29T09:08:02.767593Z",
     "iopub.status.busy": "2025-07-29T09:08:02.767288Z",
     "iopub.status.idle": "2025-07-29T09:08:02.774758Z",
     "shell.execute_reply": "2025-07-29T09:08:02.773811Z",
     "shell.execute_reply.started": "2025-07-29T09:08:02.767571Z"
    },
    "trusted": true
   },
   "outputs": [
    {
     "name": "stdout",
     "output_type": "stream",
     "text": [
      "[[961   4]\n",
      " [ 24 126]]\n"
     ]
    }
   ],
   "source": [
    "print(confusion_matrix(y_test_enc, y_pred_xgb))"
   ]
  },
  {
   "cell_type": "code",
   "execution_count": 83,
   "metadata": {
    "execution": {
     "iopub.execute_input": "2025-07-29T09:08:03.334477Z",
     "iopub.status.busy": "2025-07-29T09:08:03.333833Z",
     "iopub.status.idle": "2025-07-29T09:08:03.347808Z",
     "shell.execute_reply": "2025-07-29T09:08:03.346919Z",
     "shell.execute_reply.started": "2025-07-29T09:08:03.334450Z"
    },
    "trusted": true
   },
   "outputs": [
    {
     "name": "stdout",
     "output_type": "stream",
     "text": [
      "              precision    recall  f1-score   support\n",
      "\n",
      "           0       0.98      1.00      0.99       965\n",
      "           1       0.97      0.84      0.90       150\n",
      "\n",
      "    accuracy                           0.97      1115\n",
      "   macro avg       0.97      0.92      0.94      1115\n",
      "weighted avg       0.97      0.97      0.97      1115\n",
      "\n"
     ]
    }
   ],
   "source": [
    "print(classification_report(y_test_enc, y_pred_xgb))"
   ]
  },
  {
   "cell_type": "markdown",
   "metadata": {},
   "source": [
    "# Model Comparison"
   ]
  },
  {
   "cell_type": "code",
   "execution_count": 84,
   "metadata": {
    "execution": {
     "iopub.execute_input": "2025-07-29T09:08:06.039982Z",
     "iopub.status.busy": "2025-07-29T09:08:06.039541Z",
     "iopub.status.idle": "2025-07-29T09:08:06.044613Z",
     "shell.execute_reply": "2025-07-29T09:08:06.043491Z",
     "shell.execute_reply.started": "2025-07-29T09:08:06.039932Z"
    },
    "trusted": true
   },
   "outputs": [],
   "source": [
    "from sklearn.metrics import precision_score, recall_score, f1_score"
   ]
  },
  {
   "cell_type": "code",
   "execution_count": 90,
   "metadata": {
    "execution": {
     "iopub.execute_input": "2025-07-29T09:16:11.971555Z",
     "iopub.status.busy": "2025-07-29T09:16:11.970521Z",
     "iopub.status.idle": "2025-07-29T09:16:11.977713Z",
     "shell.execute_reply": "2025-07-29T09:16:11.976091Z",
     "shell.execute_reply.started": "2025-07-29T09:16:11.971520Z"
    },
    "trusted": true
   },
   "outputs": [],
   "source": [
    "models = {\n",
    "    \"Naive Bayes\": (y_test, y_pred_nb),\n",
    "    \"Logistic Regression\": (y_test, y_pred_lr),\n",
    "    \"Decision Tree\": (y_test, y_pred_dt),\n",
    "    \"Random Forest\": (y_test, y_pred_rf),\n",
    "    \"XGBoost\": (y_test_enc, y_pred_xgb)\n",
    "}"
   ]
  },
  {
   "cell_type": "code",
   "execution_count": 91,
   "metadata": {
    "execution": {
     "iopub.execute_input": "2025-07-29T09:16:12.183814Z",
     "iopub.status.busy": "2025-07-29T09:16:12.183460Z",
     "iopub.status.idle": "2025-07-29T09:16:12.302112Z",
     "shell.execute_reply": "2025-07-29T09:16:12.301307Z",
     "shell.execute_reply.started": "2025-07-29T09:16:12.183786Z"
    },
    "trusted": true
   },
   "outputs": [
    {
     "name": "stdout",
     "output_type": "stream",
     "text": [
      "                 Model  Accuracy  Precision    Recall  F1-Score\n",
      "0          Naive Bayes  0.977578   1.000000  0.833333  0.909091\n",
      "1  Logistic Regression  0.949776   0.960784  0.653333  0.777778\n",
      "2        Decision Tree  0.967713   0.885135  0.873333  0.879195\n",
      "3        Random Forest  0.978475   1.000000  0.840000  0.913043\n",
      "4              XGBoost  0.974888   0.969231  0.840000  0.900000\n"
     ]
    }
   ],
   "source": [
    "results = []\n",
    "\n",
    "for name, (y_true, y_pred) in models.items():\n",
    "    if y_true.dtype == 'O':\n",
    "        pos_label = 'spam'\n",
    "    else:\n",
    "        pos_label = 1\n",
    "\n",
    "    results.append({\n",
    "        \"Model\": name,\n",
    "        \"Accuracy\": accuracy_score(y_true, y_pred),\n",
    "        \"Precision\": precision_score(y_true, y_pred, pos_label=pos_label),\n",
    "        \"Recall\": recall_score(y_true, y_pred, pos_label=pos_label),\n",
    "        \"F1-Score\": f1_score(y_true, y_pred, pos_label=pos_label),\n",
    "    })\n",
    "\n",
    "df_results = pd.DataFrame(results)\n",
    "print(df_results)"
   ]
  },
  {
   "cell_type": "code",
   "execution_count": null,
   "metadata": {
    "trusted": true
   },
   "outputs": [],
   "source": []
  }
 ],
 "metadata": {
  "kaggle": {
   "accelerator": "none",
   "dataSources": [
    {
     "datasetId": 483,
     "sourceId": 982,
     "sourceType": "datasetVersion"
    }
   ],
   "dockerImageVersionId": 31089,
   "isGpuEnabled": false,
   "isInternetEnabled": true,
   "language": "python",
   "sourceType": "notebook"
  },
  "kernelspec": {
   "display_name": ".venv",
   "language": "python",
   "name": "python3"
  },
  "language_info": {
   "codemirror_mode": {
    "name": "ipython",
    "version": 3
   },
   "file_extension": ".py",
   "mimetype": "text/x-python",
   "name": "python",
   "nbconvert_exporter": "python",
   "pygments_lexer": "ipython3",
   "version": "3.12.3"
  }
 },
 "nbformat": 4,
 "nbformat_minor": 4
}
